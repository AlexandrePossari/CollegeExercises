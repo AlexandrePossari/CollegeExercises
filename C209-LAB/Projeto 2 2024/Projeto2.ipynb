{
 "cells": [
  {
   "cell_type": "markdown",
   "metadata": {
    "vscode": {
     "languageId": "plaintext"
    }
   },
   "source": [
    "### Import de dependências"
   ]
  },
  {
   "cell_type": "code",
   "execution_count": 9,
   "metadata": {},
   "outputs": [],
   "source": [
    "import moviepy.editor as mpe\n",
    "import numpy as np"
   ]
  },
  {
   "cell_type": "markdown",
   "metadata": {},
   "source": [
    "### Abrir o video"
   ]
  },
  {
   "cell_type": "code",
   "execution_count": 10,
   "metadata": {},
   "outputs": [],
   "source": [
    "video = mpe.VideoFileClip(\"projeto2C209.mp4\")"
   ]
  },
  {
   "cell_type": "markdown",
   "metadata": {},
   "source": [
    "### Inverter a imagem, no eixo, a cada 20s"
   ]
  },
  {
   "cell_type": "code",
   "execution_count": 11,
   "metadata": {},
   "outputs": [],
   "source": [
    "def inverte_imagem(clip):\n",
    "    def inverter_no_eixo_20_em_20_s(get_frame, t):\n",
    "        #Cria intervalos de 20 segundos\n",
    "        quociente = int(t) // 20\n",
    "        if quociente % 2 == 1:\n",
    "            frame = get_frame(t)\n",
    "            #Inverte a imagem no eixo, caso esteja nos 20 segundos\n",
    "            return np.flip(frame, axis=1)\n",
    "        else:\n",
    "            return get_frame(t)\n",
    "    \n",
    "    return clip.fl(inverter_no_eixo_20_em_20_s)\n",
    "\n",
    "video_invertido_20 = inverte_imagem(video)"
   ]
  },
  {
   "cell_type": "markdown",
   "metadata": {},
   "source": [
    "### Diminiur o som, de forma gradativa, a cada 30 segundos, de forma que os últimos 10 segundos fique em silêncio (sem som)"
   ]
  },
  {
   "cell_type": "code",
   "execution_count": 14,
   "metadata": {},
   "outputs": [],
   "source": [
    "# Calcula e retorna o volume no tempo dado\n",
    "def busca_volume(t, audio_shape):\n",
    "    #Máscara que deixa o aúdio sem som nos últimos 10 segundos\n",
    "    mask = t >= duracao_total - 10\n",
    "    #Calcula intervalos de 30 segundos\n",
    "    intervals = t // 30\n",
    "    #Fator para diminuir gradativamente o som (diminui 20% do atual)\n",
    "    factors = 1 - 0.2 * intervals\n",
    "    #Aplica a máscara  que deixa sem som nos últimos 10 segundos\n",
    "    factors[mask] = 0.0\n",
    "    return np.tile(np.maximum(factors, 0.0), (audio_shape[1], 1)).T\n",
    "\n",
    "# Aplica o volume a cada quadro de áudio\n",
    "def aplicar_volume(get_audio_frame, t):\n",
    "    audio_frame = get_audio_frame(t)\n",
    "    fator = busca_volume(t, audio_frame.shape)\n",
    "    return audio_frame * fator\n",
    "\n",
    "\n",
    "duracao_total = video_invertido_20.duration\n",
    "#Realiza a redução de volume\n",
    "audio_reduzido = video_invertido_20.audio.fl(aplicar_volume) \n",
    "#Seta o aúdio no vídeo\n",
    "video_audio_diminuindo = video_invertido_20.set_audio(audio_reduzido) \n"
   ]
  },
  {
   "cell_type": "markdown",
   "metadata": {},
   "source": [
    "### Após o primeiro minuto, 60 segundos, fazer um corte para o segundo 80\n",
    "### Por fim, insere os 20 segundos cortados no fim do video"
   ]
  },
  {
   "cell_type": "code",
   "execution_count": 15,
   "metadata": {},
   "outputs": [
    {
     "name": "stdout",
     "output_type": "stream",
     "text": [
      "Moviepy - Building video video_final.mp4.\n",
      "MoviePy - Writing audio in video_finalTEMP_MPY_wvf_snd.mp3\n"
     ]
    },
    {
     "name": "stderr",
     "output_type": "stream",
     "text": [
      "                                                                      \r"
     ]
    },
    {
     "name": "stdout",
     "output_type": "stream",
     "text": [
      "MoviePy - Done.\n",
      "Moviepy - Writing video video_final.mp4\n",
      "\n"
     ]
    },
    {
     "name": "stderr",
     "output_type": "stream",
     "text": [
      "                                                                 \r"
     ]
    },
    {
     "name": "stdout",
     "output_type": "stream",
     "text": [
      "Moviepy - Done !\n",
      "Moviepy - video ready video_final.mp4\n"
     ]
    }
   ],
   "source": [
    "video_0s_60s = video_audio_diminuindo.subclip(0,60)\n",
    "video_60s_80s = video_audio_diminuindo.subclip(60,80)\n",
    "video_80s_max = video_audio_diminuindo.subclip(80)\n",
    "\n",
    "video_final = mpe.concatenate_videoclips([video_0s_60s,video_80s_max,video_60s_80s])\n",
    "\n",
    "video_final.write_videofile('video_final.mp4')"
   ]
  }
 ],
 "metadata": {
  "kernelspec": {
   "display_name": "Python 3",
   "language": "python",
   "name": "python3"
  },
  "language_info": {
   "codemirror_mode": {
    "name": "ipython",
    "version": 3
   },
   "file_extension": ".py",
   "mimetype": "text/x-python",
   "name": "python",
   "nbconvert_exporter": "python",
   "pygments_lexer": "ipython3",
   "version": "3.12.2"
  }
 },
 "nbformat": 4,
 "nbformat_minor": 2
}
