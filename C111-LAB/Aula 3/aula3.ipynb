{
 "cells": [
  {
   "cell_type": "markdown",
   "metadata": {},
   "source": [
    "# Coleções\n",
    "\n",
    "## Tuplas = ('a', 'b', 'c')\n",
    "- Imutável\n",
    "- Pode-se usar elementos de tipo heterogêneos (int, string)\n"
   ]
  },
  {
   "cell_type": "code",
   "execution_count": null,
   "metadata": {},
   "outputs": [],
   "source": [
    "nomes = ('Goku', 'Vegeta', 'Trunks', 'Gohan')\n",
    "print(nomes)\n",
    "#SLICING DE DADOS\n",
    "print(nomes[0]) # Goku\n",
    "# No Python, o primeiro indice de uma coleção é INCLUSIVE e o segundo EXCLUSIVE\n",
    "print(nomes[:2]) # Goku e Vegeta\n",
    "print(nomes[2:]) # Trunks e Gohan\n",
    "print(nomes[1:3]) # Vegeta e Trunks\n",
    "print(nomes[-1]) # Gohan"
   ]
  },
  {
   "cell_type": "code",
   "execution_count": null,
   "metadata": {},
   "outputs": [],
   "source": [
    "# TENTANDO ALTERAR UMA TUPLA - IMUTABILIDADE\n",
    "nomes[0] = 'Bulma'\n",
    "print(nomes)"
   ]
  },
  {
   "cell_type": "markdown",
   "metadata": {},
   "source": [
    "## Listas = ['a', 'b', 'c']\n",
    "- Mutável\n",
    "- Pode-se usar elementos de tipo heterogêneos (int, string), porém os métodos de ordenação não funcionariam"
   ]
  },
  {
   "cell_type": "code",
   "execution_count": null,
   "metadata": {},
   "outputs": [],
   "source": [
    "nomes = ['Goku', 'Vegeta', 'Trunks', 'Gohan']\n",
    "# INSERT\n",
    "nomes.append('Bulma') # insere no final\n",
    "nomes.insert(2, 'Piccolo') # insere em uma posicao especifica\n",
    "print(nomes)\n",
    "\n",
    "# UPDATE\n",
    "nomes[0] = 'Goten'\n",
    "\n",
    "# DELETE\n",
    "del nomes[1] # excluindo pelo indice / nomes.pop(1)\n",
    "nomes.remove('Trunks')\n",
    "print(nomes)\n",
    "\n",
    "if 'Piccolo' in nomes:\n",
    "    print('Piccolo is here!!!')"
   ]
  },
  {
   "cell_type": "markdown",
   "metadata": {},
   "source": [
    "## Conjuntos(sets) = {'a', 'b', 1}\n",
    "- Não ordenado\n",
    "- Não admite elementos duplicados"
   ]
  },
  {
   "cell_type": "code",
   "execution_count": null,
   "metadata": {},
   "outputs": [
    {
     "name": "stdout",
     "output_type": "stream",
     "text": [
      "{2, 'Vegeta', 'Goku', 'Gohan', 'Trunks'}\n"
     ]
    }
   ],
   "source": [
    "nomes = {'Goku', 'Vegeta', 'Trunks', 'Gohan', 'Trunks', 'Goku', 2}\n",
    "print(nomes)\n",
    "\n",
    "# ADICIONAR\n",
    "nomes.add('Kami')\n",
    "\n",
    "# DELETE\n",
    "nomes.remove('Vegeta')\n",
    "\n",
    "# UPDATE ??"
   ]
  },
  {
   "cell_type": "markdown",
   "metadata": {},
   "source": [
    "## Dicionários = {'key': value, 'key': value}\n",
    "- Mutáveis"
   ]
  },
  {
   "cell_type": "code",
   "execution_count": 12,
   "metadata": {},
   "outputs": [
    {
     "name": "stdout",
     "output_type": "stream",
     "text": [
      "{'nome': 'Goku', 'idade': 42}\n",
      "Goku\n",
      "{'nome': 'Vegeta', 'idade': 42}\n"
     ]
    }
   ],
   "source": [
    "pessoa = {'nome': 'Goku', 'idade': 42}\n",
    "print(pessoa)\n",
    "# Acessar\n",
    "print(pessoa['nome'])\n",
    "# Insert\n",
    "pessoa['sexo'] = 'M'\n",
    "# Update\n",
    "pessoa['nome'] = 'Vegeta'\n",
    "# Delete\n",
    "del pessoa['sexo']\n",
    "\n",
    "print(pessoa)\n"
   ]
  }
 ],
 "metadata": {
  "kernelspec": {
   "display_name": "Python 3",
   "language": "python",
   "name": "python3"
  },
  "language_info": {
   "codemirror_mode": {
    "name": "ipython",
    "version": 3
   },
   "file_extension": ".py",
   "mimetype": "text/x-python",
   "name": "python",
   "nbconvert_exporter": "python",
   "pygments_lexer": "ipython3",
   "version": "3.12.2"
  }
 },
 "nbformat": 4,
 "nbformat_minor": 2
}
